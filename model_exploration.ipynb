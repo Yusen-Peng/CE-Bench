{
 "cells": [
  {
   "cell_type": "markdown",
   "metadata": {},
   "source": [
    "# Using transformer_lens to Get Activation Names from GPT-2\n",
    "\n",
    "This notebook demonstrates how to use transformer_lens utilities to extract activation names from a GPT-2 model."
   ]
  },
  {
   "cell_type": "code",
   "execution_count": 1,
   "metadata": {},
   "outputs": [],
   "source": [
    "# Import necessary libraries\n",
    "import transformer_lens\n",
    "from transformer_lens import utils\n",
    "from transformer_lens import HookedTransformer"
   ]
  },
  {
   "cell_type": "code",
   "execution_count": 2,
   "metadata": {},
   "outputs": [
    {
     "data": {
      "application/vnd.jupyter.widget-view+json": {
       "model_id": "74be09a04225462793a14149e3d87751",
       "version_major": 2,
       "version_minor": 0
      },
      "text/plain": [
       "model.safetensors:   0%|          | 0.00/548M [00:00<?, ?B/s]"
      ]
     },
     "metadata": {},
     "output_type": "display_data"
    },
    {
     "name": "stderr",
     "output_type": "stream",
     "text": [
      "c:\\Users\\alexg\\.conda\\envs\\lab\\lib\\site-packages\\huggingface_hub\\file_download.py:142: UserWarning: `huggingface_hub` cache-system uses symlinks by default to efficiently store duplicated files but your machine does not support them in C:\\Users\\alexg\\.cache\\huggingface\\hub\\models--gpt2. Caching files will still work but in a degraded version that might require more space on your disk. This warning can be disabled by setting the `HF_HUB_DISABLE_SYMLINKS_WARNING` environment variable. For more details, see https://huggingface.co/docs/huggingface_hub/how-to-cache#limitations.\n",
      "To support symlinks on Windows, you either need to activate Developer Mode or to run Python as an administrator. In order to activate developer mode, see this article: https://docs.microsoft.com/en-us/windows/apps/get-started/enable-your-device-for-development\n",
      "  warnings.warn(message)\n"
     ]
    },
    {
     "data": {
      "application/vnd.jupyter.widget-view+json": {
       "model_id": "20a58cac7a114767b771903c03a7ee2b",
       "version_major": 2,
       "version_minor": 0
      },
      "text/plain": [
       "generation_config.json:   0%|          | 0.00/124 [00:00<?, ?B/s]"
      ]
     },
     "metadata": {},
     "output_type": "display_data"
    },
    {
     "name": "stdout",
     "output_type": "stream",
     "text": [
      "Loaded pretrained model gpt2 into HookedTransformer\n",
      "Loaded model: gpt2\n",
      "Number of layers: 12\n",
      "Number of heads: 12\n"
     ]
    }
   ],
   "source": [
    "# Load the GPT-2 model using HookedTransformer\n",
    "model = HookedTransformer.from_pretrained(\"gpt2\")\n",
    "print(f\"Loaded model: {model.cfg.model_name}\")\n",
    "print(f\"Number of layers: {model.cfg.n_layers}\")\n",
    "print(f\"Number of heads: {model.cfg.n_heads}\")\n",
    "print(f\"Number of features in layers:\")\n",
    "# Print the number of features in each layer\n",
    "print(f\"Embedding dimension: {model.cfg.d_model}\")\n",
    "print(f\"MLP intermediate dimension: {model.cfg.d_mlp}\")\n",
    "print(f\"Head dimension: {model.cfg.d_head}\")\n",
    "print(f\"Key/Query/Value dimension: {model.cfg.d_head * model.cfg.n_heads}\")\n"
   ]
  },
  {
   "cell_type": "code",
   "execution_count": null,
   "metadata": {},
   "outputs": [],
   "source": [
    "# Get all activation names from the model\n",
    "activation_names = utils.get_act_name(\"gpt2\")\n",
    "print(f\"Total number of activation names: {len(activation_names)}\")\n",
    "print(\"\\nFirst 10 activation names:\")\n",
    "for name in activation_names[:10]:\n",
    "    print(f\"- {name}\")"
   ]
  },
  {
   "cell_type": "code",
   "execution_count": null,
   "metadata": {},
   "outputs": [],
   "source": [
    "# Filtering activation names by type\n",
    "attention_pattern_names = [name for name in activation_names if \"pattern\" in name]\n",
    "mlp_names = [name for name in activation_names if \"mlp\" in name]\n",
    "attn_output_names = [name for name in activation_names if \"attn_out\" in name]\n",
    "\n",
    "print(f\"\\nAttention pattern activations: {len(attention_pattern_names)}\")\n",
    "print(f\"MLP activations: {len(mlp_names)}\")\n",
    "print(f\"Attention output activations: {len(attn_output_names)}\")"
   ]
  },
  {
   "cell_type": "code",
   "execution_count": null,
   "metadata": {},
   "outputs": [],
   "source": [
    "# Example: Get activations for a specific layer\n",
    "layer_num = 5  # Example: layer 5\n",
    "layer_activations = [name for name in activation_names if f\"blocks.{layer_num}.\" in name]\n",
    "\n",
    "print(f\"\\nActivations for layer {layer_num}:\")\n",
    "for name in layer_activations:\n",
    "    print(f\"- {name}\")"
   ]
  },
  {
   "cell_type": "code",
   "execution_count": null,
   "metadata": {},
   "outputs": [],
   "source": [
    "# Example: Get specific activation by using utils.get_act_name function with parameters\n",
    "# Get the name for the attention output of layer 3, head 4\n",
    "specific_act_name = utils.get_act_name(\"attn_out\", 3, 4)\n",
    "print(f\"\\nSpecific activation name: {specific_act_name}\")\n",
    "\n",
    "# Get the name for the MLP output of layer 2\n",
    "mlp_out_name = utils.get_act_name(\"mlp_out\", 2)\n",
    "print(f\"MLP output activation name: {mlp_out_name}\")"
   ]
  }
 ],
 "metadata": {
  "kernelspec": {
   "display_name": "lab",
   "language": "python",
   "name": "python3"
  },
  "language_info": {
   "codemirror_mode": {
    "name": "ipython",
    "version": 3
   },
   "file_extension": ".py",
   "mimetype": "text/x-python",
   "name": "python",
   "nbconvert_exporter": "python",
   "pygments_lexer": "ipython3",
   "version": "3.10.12"
  }
 },
 "nbformat": 4,
 "nbformat_minor": 2
}
